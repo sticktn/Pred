{
 "cells": [
  {
   "cell_type": "code",
   "execution_count": 3,
   "outputs": [],
   "source": [
    "import pandas as pd"
   ],
   "metadata": {
    "collapsed": false,
    "ExecuteTime": {
     "start_time": "2023-05-11T17:04:20.814720Z",
     "end_time": "2023-05-11T17:04:22.926680Z"
    }
   }
  },
  {
   "cell_type": "code",
   "execution_count": 11,
   "outputs": [
    {
     "data": {
      "text/plain": "      客户次类别  房产数  每房人数  平均年龄  客户主类别  罗马天主教比例  新教比例  其它宗教比例  无宗教比例  已婚占比  ...  \\\n0        33    1     3     2      8        0     5       1      3     7  ...   \n1        37    1     2     2      8        1     4       1      4     6  ...   \n2        37    1     2     2      8        0     4       2      4     3  ...   \n3         9    1     3     3      3        2     3       2      4     5  ...   \n4        40    1     4     2     10        1     4       1      4     7  ...   \n...     ...  ...   ...   ...    ...      ...   ...     ...    ...   ...  ...   \n5817     36    1     1     2      8        0     6       1      2     1  ...   \n5818     35    1     4     4      8        1     4       1      4     6  ...   \n5819     33    1     3     4      8        0     6       0      3     5  ...   \n5820     34    1     3     2      8        0     7       0      2     7  ...   \n5821     33    1     3     3      8        0     6       1      2     7  ...   \n\n      投保个人意外险数量  投保家庭意外险数量  投保身残险数量  投保火险数量  投保冲浪险数量  投保船险数量  投保自行车险数量  \\\n0             0          0        0       1        0       0         0   \n1             0          0        0       1        0       0         0   \n2             0          0        0       1        0       0         0   \n3             0          0        0       1        0       0         0   \n4             0          0        0       1        0       0         0   \n...         ...        ...      ...     ...      ...     ...       ...   \n5817          0          0        0       1        0       0         0   \n5818          0          0        0       1        0       0         0   \n5819          0          0        0       1        0       0         0   \n5820          0          0        0       0        0       0         0   \n5821          0          0        0       0        0       0         0   \n\n      投保财产险数量  投保社会安全险数量  移动房车险数量  \n0           0          0        0  \n1           0          0        0  \n2           0          0        0  \n3           0          0        0  \n4           0          0        0  \n...       ...        ...      ...  \n5817        0          0        0  \n5818        0          0        0  \n5819        0          0        1  \n5820        0          0        0  \n5821        0          0        0  \n\n[5822 rows x 86 columns]",
      "text/html": "<div>\n<style scoped>\n    .dataframe tbody tr th:only-of-type {\n        vertical-align: middle;\n    }\n\n    .dataframe tbody tr th {\n        vertical-align: top;\n    }\n\n    .dataframe thead th {\n        text-align: right;\n    }\n</style>\n<table border=\"1\" class=\"dataframe\">\n  <thead>\n    <tr style=\"text-align: right;\">\n      <th></th>\n      <th>客户次类别</th>\n      <th>房产数</th>\n      <th>每房人数</th>\n      <th>平均年龄</th>\n      <th>客户主类别</th>\n      <th>罗马天主教比例</th>\n      <th>新教比例</th>\n      <th>其它宗教比例</th>\n      <th>无宗教比例</th>\n      <th>已婚占比</th>\n      <th>...</th>\n      <th>投保个人意外险数量</th>\n      <th>投保家庭意外险数量</th>\n      <th>投保身残险数量</th>\n      <th>投保火险数量</th>\n      <th>投保冲浪险数量</th>\n      <th>投保船险数量</th>\n      <th>投保自行车险数量</th>\n      <th>投保财产险数量</th>\n      <th>投保社会安全险数量</th>\n      <th>移动房车险数量</th>\n    </tr>\n  </thead>\n  <tbody>\n    <tr>\n      <th>0</th>\n      <td>33</td>\n      <td>1</td>\n      <td>3</td>\n      <td>2</td>\n      <td>8</td>\n      <td>0</td>\n      <td>5</td>\n      <td>1</td>\n      <td>3</td>\n      <td>7</td>\n      <td>...</td>\n      <td>0</td>\n      <td>0</td>\n      <td>0</td>\n      <td>1</td>\n      <td>0</td>\n      <td>0</td>\n      <td>0</td>\n      <td>0</td>\n      <td>0</td>\n      <td>0</td>\n    </tr>\n    <tr>\n      <th>1</th>\n      <td>37</td>\n      <td>1</td>\n      <td>2</td>\n      <td>2</td>\n      <td>8</td>\n      <td>1</td>\n      <td>4</td>\n      <td>1</td>\n      <td>4</td>\n      <td>6</td>\n      <td>...</td>\n      <td>0</td>\n      <td>0</td>\n      <td>0</td>\n      <td>1</td>\n      <td>0</td>\n      <td>0</td>\n      <td>0</td>\n      <td>0</td>\n      <td>0</td>\n      <td>0</td>\n    </tr>\n    <tr>\n      <th>2</th>\n      <td>37</td>\n      <td>1</td>\n      <td>2</td>\n      <td>2</td>\n      <td>8</td>\n      <td>0</td>\n      <td>4</td>\n      <td>2</td>\n      <td>4</td>\n      <td>3</td>\n      <td>...</td>\n      <td>0</td>\n      <td>0</td>\n      <td>0</td>\n      <td>1</td>\n      <td>0</td>\n      <td>0</td>\n      <td>0</td>\n      <td>0</td>\n      <td>0</td>\n      <td>0</td>\n    </tr>\n    <tr>\n      <th>3</th>\n      <td>9</td>\n      <td>1</td>\n      <td>3</td>\n      <td>3</td>\n      <td>3</td>\n      <td>2</td>\n      <td>3</td>\n      <td>2</td>\n      <td>4</td>\n      <td>5</td>\n      <td>...</td>\n      <td>0</td>\n      <td>0</td>\n      <td>0</td>\n      <td>1</td>\n      <td>0</td>\n      <td>0</td>\n      <td>0</td>\n      <td>0</td>\n      <td>0</td>\n      <td>0</td>\n    </tr>\n    <tr>\n      <th>4</th>\n      <td>40</td>\n      <td>1</td>\n      <td>4</td>\n      <td>2</td>\n      <td>10</td>\n      <td>1</td>\n      <td>4</td>\n      <td>1</td>\n      <td>4</td>\n      <td>7</td>\n      <td>...</td>\n      <td>0</td>\n      <td>0</td>\n      <td>0</td>\n      <td>1</td>\n      <td>0</td>\n      <td>0</td>\n      <td>0</td>\n      <td>0</td>\n      <td>0</td>\n      <td>0</td>\n    </tr>\n    <tr>\n      <th>...</th>\n      <td>...</td>\n      <td>...</td>\n      <td>...</td>\n      <td>...</td>\n      <td>...</td>\n      <td>...</td>\n      <td>...</td>\n      <td>...</td>\n      <td>...</td>\n      <td>...</td>\n      <td>...</td>\n      <td>...</td>\n      <td>...</td>\n      <td>...</td>\n      <td>...</td>\n      <td>...</td>\n      <td>...</td>\n      <td>...</td>\n      <td>...</td>\n      <td>...</td>\n      <td>...</td>\n    </tr>\n    <tr>\n      <th>5817</th>\n      <td>36</td>\n      <td>1</td>\n      <td>1</td>\n      <td>2</td>\n      <td>8</td>\n      <td>0</td>\n      <td>6</td>\n      <td>1</td>\n      <td>2</td>\n      <td>1</td>\n      <td>...</td>\n      <td>0</td>\n      <td>0</td>\n      <td>0</td>\n      <td>1</td>\n      <td>0</td>\n      <td>0</td>\n      <td>0</td>\n      <td>0</td>\n      <td>0</td>\n      <td>0</td>\n    </tr>\n    <tr>\n      <th>5818</th>\n      <td>35</td>\n      <td>1</td>\n      <td>4</td>\n      <td>4</td>\n      <td>8</td>\n      <td>1</td>\n      <td>4</td>\n      <td>1</td>\n      <td>4</td>\n      <td>6</td>\n      <td>...</td>\n      <td>0</td>\n      <td>0</td>\n      <td>0</td>\n      <td>1</td>\n      <td>0</td>\n      <td>0</td>\n      <td>0</td>\n      <td>0</td>\n      <td>0</td>\n      <td>0</td>\n    </tr>\n    <tr>\n      <th>5819</th>\n      <td>33</td>\n      <td>1</td>\n      <td>3</td>\n      <td>4</td>\n      <td>8</td>\n      <td>0</td>\n      <td>6</td>\n      <td>0</td>\n      <td>3</td>\n      <td>5</td>\n      <td>...</td>\n      <td>0</td>\n      <td>0</td>\n      <td>0</td>\n      <td>1</td>\n      <td>0</td>\n      <td>0</td>\n      <td>0</td>\n      <td>0</td>\n      <td>0</td>\n      <td>1</td>\n    </tr>\n    <tr>\n      <th>5820</th>\n      <td>34</td>\n      <td>1</td>\n      <td>3</td>\n      <td>2</td>\n      <td>8</td>\n      <td>0</td>\n      <td>7</td>\n      <td>0</td>\n      <td>2</td>\n      <td>7</td>\n      <td>...</td>\n      <td>0</td>\n      <td>0</td>\n      <td>0</td>\n      <td>0</td>\n      <td>0</td>\n      <td>0</td>\n      <td>0</td>\n      <td>0</td>\n      <td>0</td>\n      <td>0</td>\n    </tr>\n    <tr>\n      <th>5821</th>\n      <td>33</td>\n      <td>1</td>\n      <td>3</td>\n      <td>3</td>\n      <td>8</td>\n      <td>0</td>\n      <td>6</td>\n      <td>1</td>\n      <td>2</td>\n      <td>7</td>\n      <td>...</td>\n      <td>0</td>\n      <td>0</td>\n      <td>0</td>\n      <td>0</td>\n      <td>0</td>\n      <td>0</td>\n      <td>0</td>\n      <td>0</td>\n      <td>0</td>\n      <td>0</td>\n    </tr>\n  </tbody>\n</table>\n<p>5822 rows × 86 columns</p>\n</div>"
     },
     "execution_count": 11,
     "metadata": {},
     "output_type": "execute_result"
    }
   ],
   "source": [
    "data = pd.read_excel('data.xlsx')\n",
    "data"
   ],
   "metadata": {
    "collapsed": false,
    "ExecuteTime": {
     "start_time": "2023-05-11T17:10:17.539901Z",
     "end_time": "2023-05-11T17:10:24.345653Z"
    }
   }
  },
  {
   "cell_type": "code",
   "execution_count": 13,
   "outputs": [
    {
     "name": "stdout",
     "output_type": "stream",
     "text": [
      "<class 'pandas.core.frame.DataFrame'>\n",
      "RangeIndex: 5822 entries, 0 to 5821\n",
      "Data columns (total 86 columns):\n",
      " #   Column      Non-Null Count  Dtype\n",
      "---  ------      --------------  -----\n",
      " 0   客户次类别       5822 non-null   int64\n",
      " 1   房产数         5822 non-null   int64\n",
      " 2   每房人数        5822 non-null   int64\n",
      " 3   平均年龄        5822 non-null   int64\n",
      " 4   客户主类别       5822 non-null   int64\n",
      " 5   罗马天主教比例     5822 non-null   int64\n",
      " 6   新教比例        5822 non-null   int64\n",
      " 7   其它宗教比例      5822 non-null   int64\n",
      " 8   无宗教比例       5822 non-null   int64\n",
      " 9   已婚占比        5822 non-null   int64\n",
      " 10  同居占比        5822 non-null   int64\n",
      " 11  其它关系占比      5822 non-null   int64\n",
      " 12  单身占比        5822 non-null   int64\n",
      " 13  无子女         5822 non-null   int64\n",
      " 14  有子女         5822 non-null   int64\n",
      " 15  高等教育        5822 non-null   int64\n",
      " 16  中等教育        5822 non-null   int64\n",
      " 17  低等教育        5822 non-null   int64\n",
      " 18  高管          5822 non-null   int64\n",
      " 19  企业家         5822 non-null   int64\n",
      " 20  农场主         5822 non-null   int64\n",
      " 21  中层管理者       5822 non-null   int64\n",
      " 22  技术工人        5822 non-null   int64\n",
      " 23  非熟练劳工       5822 non-null   int64\n",
      " 24  社会阶层A       5822 non-null   int64\n",
      " 25  社会阶层B1      5822 non-null   int64\n",
      " 26  社会阶层B2      5822 non-null   int64\n",
      " 27  社会阶层C       5822 non-null   int64\n",
      " 28  社会阶层D       5822 non-null   int64\n",
      " 29  租房子         5822 non-null   int64\n",
      " 30  房主          5822 non-null   int64\n",
      " 31  一辆车         5822 non-null   int64\n",
      " 32  两辆车         5822 non-null   int64\n",
      " 33  无车          5822 non-null   int64\n",
      " 34  公共社保        5822 non-null   int64\n",
      " 35  私人社保        5822 non-null   int64\n",
      " 36  收入低于30      5822 non-null   int64\n",
      " 37  收入30-45     5822 non-null   int64\n",
      " 38  收入45-75     5822 non-null   int64\n",
      " 39  收入75-122    5822 non-null   int64\n",
      " 40  收入大于123     5822 non-null   int64\n",
      " 41  平均收入        5822 non-null   int64\n",
      " 42  购买力水平       5822 non-null   int64\n",
      " 43  个人第三方保险     5822 non-null   int64\n",
      " 44  商业 第三方保险    5822 non-null   int64\n",
      " 45  农业第三方险      5822 non-null   int64\n",
      " 46  投保车险        5822 non-null   int64\n",
      " 47  投保货车险       5822 non-null   int64\n",
      " 48  投保摩托车险      5822 non-null   int64\n",
      " 49  投保卡车险       5822 non-null   int64\n",
      " 50  投保房车险       5822 non-null   int64\n",
      " 51  投保拖拉机险      5822 non-null   int64\n",
      " 52  投保农机险       5822 non-null   int64\n",
      " 53  投保机动自行车险    5822 non-null   int64\n",
      " 54  投保寿险        5822 non-null   int64\n",
      " 55  投保个人意外险     5822 non-null   int64\n",
      " 56  投保家庭意外险     5822 non-null   int64\n",
      " 57  投保身残险       5822 non-null   int64\n",
      " 58  投保火险        5822 non-null   int64\n",
      " 59  投保冲浪险       5822 non-null   int64\n",
      " 60  投保船险        5822 non-null   int64\n",
      " 61  投保自行车险      5822 non-null   int64\n",
      " 62  投保财产险       5822 non-null   int64\n",
      " 63  投保社会安全险     5822 non-null   int64\n",
      " 64  第三方私人险数量    5822 non-null   int64\n",
      " 65  第三方商业险数量    5822 non-null   int64\n",
      " 66  第三方农业险数量    5822 non-null   int64\n",
      " 67  投保车险数量      5822 non-null   int64\n",
      " 68  投保货车险数量     5822 non-null   int64\n",
      " 69  投保摩托车险数量    5822 non-null   int64\n",
      " 70  投保卡车险数量     5822 non-null   int64\n",
      " 71  投保房车险数量     5822 non-null   int64\n",
      " 72  投保拖拉机险数量    5822 non-null   int64\n",
      " 73  投保农机险数量     5822 non-null   int64\n",
      " 74  投保机动自行车险数量  5822 non-null   int64\n",
      " 75  投保寿险数量      5822 non-null   int64\n",
      " 76  投保个人意外险数量   5822 non-null   int64\n",
      " 77  投保家庭意外险数量   5822 non-null   int64\n",
      " 78  投保身残险数量     5822 non-null   int64\n",
      " 79  投保火险数量      5822 non-null   int64\n",
      " 80  投保冲浪险数量     5822 non-null   int64\n",
      " 81  投保船险数量      5822 non-null   int64\n",
      " 82  投保自行车险数量    5822 non-null   int64\n",
      " 83  投保财产险数量     5822 non-null   int64\n",
      " 84  投保社会安全险数量   5822 non-null   int64\n",
      " 85  移动房车险数量     5822 non-null   int64\n",
      "dtypes: int64(86)\n",
      "memory usage: 3.8 MB\n"
     ]
    }
   ],
   "source": [
    "data.info()"
   ],
   "metadata": {
    "collapsed": false,
    "ExecuteTime": {
     "start_time": "2023-05-11T17:11:29.834449Z",
     "end_time": "2023-05-11T17:11:29.869930Z"
    }
   }
  },
  {
   "cell_type": "code",
   "execution_count": 14,
   "outputs": [
    {
     "data": {
      "text/plain": "             客户次类别          房产数         每房人数         平均年龄        客户主类别  \\\ncount  5822.000000  5822.000000  5822.000000  5822.000000  5822.000000   \nmean     24.253349     1.110615     2.678805     2.991240     5.773617   \nstd      12.846706     0.405842     0.789835     0.814589     2.856760   \nmin       1.000000     1.000000     1.000000     1.000000     1.000000   \n25%      10.000000     1.000000     2.000000     2.000000     3.000000   \n50%      30.000000     1.000000     3.000000     3.000000     7.000000   \n75%      35.000000     1.000000     3.000000     3.000000     8.000000   \nmax      41.000000    10.000000     5.000000     6.000000    10.000000   \n\n           罗马天主教比例         新教比例       其它宗教比例        无宗教比例         已婚占比  ...  \\\ncount  5822.000000  5822.000000  5822.000000  5822.000000  5822.000000  ...   \nmean      0.696496     4.626932     1.069907     3.258502     6.183442  ...   \nstd       1.003234     1.715843     1.017503     1.597647     1.909482  ...   \nmin       0.000000     0.000000     0.000000     0.000000     0.000000  ...   \n25%       0.000000     4.000000     0.000000     2.000000     5.000000  ...   \n50%       0.000000     5.000000     1.000000     3.000000     6.000000  ...   \n75%       1.000000     6.000000     2.000000     4.000000     7.000000  ...   \nmax       9.000000     9.000000     5.000000     9.000000     9.000000  ...   \n\n         投保个人意外险数量    投保家庭意外险数量      投保身残险数量       投保火险数量      投保冲浪险数量  \\\ncount  5822.000000  5822.000000  5822.000000  5822.000000  5822.000000   \nmean      0.005325     0.006527     0.004638     0.570079     0.000515   \nstd       0.072782     0.080532     0.077403     0.562058     0.022696   \nmin       0.000000     0.000000     0.000000     0.000000     0.000000   \n25%       0.000000     0.000000     0.000000     0.000000     0.000000   \n50%       0.000000     0.000000     0.000000     1.000000     0.000000   \n75%       0.000000     0.000000     0.000000     1.000000     0.000000   \nmax       1.000000     1.000000     2.000000     7.000000     1.000000   \n\n            投保船险数量     投保自行车险数量      投保财产险数量    投保社会安全险数量      移动房车险数量  \ncount  5822.000000  5822.000000  5822.000000  5822.000000  5822.000000  \nmean      0.006012     0.031776     0.007901     0.014256     0.059773  \nstd       0.081632     0.210986     0.090463     0.119996     0.237087  \nmin       0.000000     0.000000     0.000000     0.000000     0.000000  \n25%       0.000000     0.000000     0.000000     0.000000     0.000000  \n50%       0.000000     0.000000     0.000000     0.000000     0.000000  \n75%       0.000000     0.000000     0.000000     0.000000     0.000000  \nmax       2.000000     3.000000     2.000000     2.000000     1.000000  \n\n[8 rows x 86 columns]",
      "text/html": "<div>\n<style scoped>\n    .dataframe tbody tr th:only-of-type {\n        vertical-align: middle;\n    }\n\n    .dataframe tbody tr th {\n        vertical-align: top;\n    }\n\n    .dataframe thead th {\n        text-align: right;\n    }\n</style>\n<table border=\"1\" class=\"dataframe\">\n  <thead>\n    <tr style=\"text-align: right;\">\n      <th></th>\n      <th>客户次类别</th>\n      <th>房产数</th>\n      <th>每房人数</th>\n      <th>平均年龄</th>\n      <th>客户主类别</th>\n      <th>罗马天主教比例</th>\n      <th>新教比例</th>\n      <th>其它宗教比例</th>\n      <th>无宗教比例</th>\n      <th>已婚占比</th>\n      <th>...</th>\n      <th>投保个人意外险数量</th>\n      <th>投保家庭意外险数量</th>\n      <th>投保身残险数量</th>\n      <th>投保火险数量</th>\n      <th>投保冲浪险数量</th>\n      <th>投保船险数量</th>\n      <th>投保自行车险数量</th>\n      <th>投保财产险数量</th>\n      <th>投保社会安全险数量</th>\n      <th>移动房车险数量</th>\n    </tr>\n  </thead>\n  <tbody>\n    <tr>\n      <th>count</th>\n      <td>5822.000000</td>\n      <td>5822.000000</td>\n      <td>5822.000000</td>\n      <td>5822.000000</td>\n      <td>5822.000000</td>\n      <td>5822.000000</td>\n      <td>5822.000000</td>\n      <td>5822.000000</td>\n      <td>5822.000000</td>\n      <td>5822.000000</td>\n      <td>...</td>\n      <td>5822.000000</td>\n      <td>5822.000000</td>\n      <td>5822.000000</td>\n      <td>5822.000000</td>\n      <td>5822.000000</td>\n      <td>5822.000000</td>\n      <td>5822.000000</td>\n      <td>5822.000000</td>\n      <td>5822.000000</td>\n      <td>5822.000000</td>\n    </tr>\n    <tr>\n      <th>mean</th>\n      <td>24.253349</td>\n      <td>1.110615</td>\n      <td>2.678805</td>\n      <td>2.991240</td>\n      <td>5.773617</td>\n      <td>0.696496</td>\n      <td>4.626932</td>\n      <td>1.069907</td>\n      <td>3.258502</td>\n      <td>6.183442</td>\n      <td>...</td>\n      <td>0.005325</td>\n      <td>0.006527</td>\n      <td>0.004638</td>\n      <td>0.570079</td>\n      <td>0.000515</td>\n      <td>0.006012</td>\n      <td>0.031776</td>\n      <td>0.007901</td>\n      <td>0.014256</td>\n      <td>0.059773</td>\n    </tr>\n    <tr>\n      <th>std</th>\n      <td>12.846706</td>\n      <td>0.405842</td>\n      <td>0.789835</td>\n      <td>0.814589</td>\n      <td>2.856760</td>\n      <td>1.003234</td>\n      <td>1.715843</td>\n      <td>1.017503</td>\n      <td>1.597647</td>\n      <td>1.909482</td>\n      <td>...</td>\n      <td>0.072782</td>\n      <td>0.080532</td>\n      <td>0.077403</td>\n      <td>0.562058</td>\n      <td>0.022696</td>\n      <td>0.081632</td>\n      <td>0.210986</td>\n      <td>0.090463</td>\n      <td>0.119996</td>\n      <td>0.237087</td>\n    </tr>\n    <tr>\n      <th>min</th>\n      <td>1.000000</td>\n      <td>1.000000</td>\n      <td>1.000000</td>\n      <td>1.000000</td>\n      <td>1.000000</td>\n      <td>0.000000</td>\n      <td>0.000000</td>\n      <td>0.000000</td>\n      <td>0.000000</td>\n      <td>0.000000</td>\n      <td>...</td>\n      <td>0.000000</td>\n      <td>0.000000</td>\n      <td>0.000000</td>\n      <td>0.000000</td>\n      <td>0.000000</td>\n      <td>0.000000</td>\n      <td>0.000000</td>\n      <td>0.000000</td>\n      <td>0.000000</td>\n      <td>0.000000</td>\n    </tr>\n    <tr>\n      <th>25%</th>\n      <td>10.000000</td>\n      <td>1.000000</td>\n      <td>2.000000</td>\n      <td>2.000000</td>\n      <td>3.000000</td>\n      <td>0.000000</td>\n      <td>4.000000</td>\n      <td>0.000000</td>\n      <td>2.000000</td>\n      <td>5.000000</td>\n      <td>...</td>\n      <td>0.000000</td>\n      <td>0.000000</td>\n      <td>0.000000</td>\n      <td>0.000000</td>\n      <td>0.000000</td>\n      <td>0.000000</td>\n      <td>0.000000</td>\n      <td>0.000000</td>\n      <td>0.000000</td>\n      <td>0.000000</td>\n    </tr>\n    <tr>\n      <th>50%</th>\n      <td>30.000000</td>\n      <td>1.000000</td>\n      <td>3.000000</td>\n      <td>3.000000</td>\n      <td>7.000000</td>\n      <td>0.000000</td>\n      <td>5.000000</td>\n      <td>1.000000</td>\n      <td>3.000000</td>\n      <td>6.000000</td>\n      <td>...</td>\n      <td>0.000000</td>\n      <td>0.000000</td>\n      <td>0.000000</td>\n      <td>1.000000</td>\n      <td>0.000000</td>\n      <td>0.000000</td>\n      <td>0.000000</td>\n      <td>0.000000</td>\n      <td>0.000000</td>\n      <td>0.000000</td>\n    </tr>\n    <tr>\n      <th>75%</th>\n      <td>35.000000</td>\n      <td>1.000000</td>\n      <td>3.000000</td>\n      <td>3.000000</td>\n      <td>8.000000</td>\n      <td>1.000000</td>\n      <td>6.000000</td>\n      <td>2.000000</td>\n      <td>4.000000</td>\n      <td>7.000000</td>\n      <td>...</td>\n      <td>0.000000</td>\n      <td>0.000000</td>\n      <td>0.000000</td>\n      <td>1.000000</td>\n      <td>0.000000</td>\n      <td>0.000000</td>\n      <td>0.000000</td>\n      <td>0.000000</td>\n      <td>0.000000</td>\n      <td>0.000000</td>\n    </tr>\n    <tr>\n      <th>max</th>\n      <td>41.000000</td>\n      <td>10.000000</td>\n      <td>5.000000</td>\n      <td>6.000000</td>\n      <td>10.000000</td>\n      <td>9.000000</td>\n      <td>9.000000</td>\n      <td>5.000000</td>\n      <td>9.000000</td>\n      <td>9.000000</td>\n      <td>...</td>\n      <td>1.000000</td>\n      <td>1.000000</td>\n      <td>2.000000</td>\n      <td>7.000000</td>\n      <td>1.000000</td>\n      <td>2.000000</td>\n      <td>3.000000</td>\n      <td>2.000000</td>\n      <td>2.000000</td>\n      <td>1.000000</td>\n    </tr>\n  </tbody>\n</table>\n<p>8 rows × 86 columns</p>\n</div>"
     },
     "execution_count": 14,
     "metadata": {},
     "output_type": "execute_result"
    }
   ],
   "source": [
    "data.describe()"
   ],
   "metadata": {
    "collapsed": false,
    "ExecuteTime": {
     "start_time": "2023-05-11T17:13:26.029263Z",
     "end_time": "2023-05-11T17:13:26.235727Z"
    }
   }
  },
  {
   "cell_type": "code",
   "execution_count": 15,
   "outputs": [
    {
     "data": {
      "text/plain": "客户次类别      0\n投保寿险       0\n投保财产险      0\n投保自行车险     0\n投保船险       0\n          ..\n社会阶层C      0\n社会阶层B2     0\n社会阶层B1     0\n社会阶层A      0\n移动房车险数量    0\nLength: 86, dtype: int64"
     },
     "execution_count": 15,
     "metadata": {},
     "output_type": "execute_result"
    }
   ],
   "source": [
    "nan_count = data.isnull().sum().sort_values(ascending=False)\n",
    "nan_count"
   ],
   "metadata": {
    "collapsed": false,
    "ExecuteTime": {
     "start_time": "2023-05-11T17:14:36.508922Z",
     "end_time": "2023-05-11T17:14:36.543827Z"
    }
   }
  },
  {
   "cell_type": "code",
   "execution_count": null,
   "outputs": [],
   "source": [],
   "metadata": {
    "collapsed": false
   }
  }
 ],
 "metadata": {
  "kernelspec": {
   "display_name": "Python 3",
   "language": "python",
   "name": "python3"
  },
  "language_info": {
   "codemirror_mode": {
    "name": "ipython",
    "version": 2
   },
   "file_extension": ".py",
   "mimetype": "text/x-python",
   "name": "python",
   "nbconvert_exporter": "python",
   "pygments_lexer": "ipython2",
   "version": "2.7.6"
  }
 },
 "nbformat": 4,
 "nbformat_minor": 0
}
